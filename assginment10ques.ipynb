{
  "nbformat": 4,
  "nbformat_minor": 0,
  "metadata": {
    "colab": {
      "provenance": []
    },
    "kernelspec": {
      "name": "python3",
      "display_name": "Python 3"
    },
    "language_info": {
      "name": "python"
    }
  },
  "cells": [
    {
      "cell_type": "code",
      "execution_count": null,
      "metadata": {
        "colab": {
          "base_uri": "https://localhost:8080/"
        },
        "id": "e6Zwc2rPMNQq",
        "outputId": "67638fe1-cbf9-43c3-f23e-a2195120f368"
      },
      "outputs": [
        {
          "output_type": "stream",
          "name": "stdout",
          "text": [
            "hai\n",
            "h\n"
          ]
        }
      ],
      "source": [
        "s=input()\n",
        "vow=['a','e','i','o','u']\n",
        "k=''.join([i for i in s if i not in vow])\n",
        "print(k)"
      ]
    },
    {
      "cell_type": "code",
      "source": [
        "s=input()\n",
        "vow=['a','e','i','o','u']\n",
        "k=''.join([i for i in s if i in vow])\n",
        "print(k)"
      ],
      "metadata": {
        "colab": {
          "base_uri": "https://localhost:8080/"
        },
        "id": "t_azAhlPNSZQ",
        "outputId": "2ef8d67c-5db8-436e-a105-35d9678d029e"
      },
      "execution_count": null,
      "outputs": [
        {
          "output_type": "stream",
          "name": "stdout",
          "text": [
            "data\n",
            "aa\n"
          ]
        }
      ]
    },
    {
      "cell_type": "code",
      "source": [
        "s=[10,11,50,34]\n",
        "l1=[]\n",
        "for i in s:\n",
        "  k=str(s.index(i))\n",
        "  l1.append(int(str(i)+k))\n",
        "print(l1)"
      ],
      "metadata": {
        "colab": {
          "base_uri": "https://localhost:8080/"
        },
        "id": "BZ9sCTKJPFm6",
        "outputId": "6435e28b-1177-4d09-f9de-b50b1bafc637"
      },
      "execution_count": null,
      "outputs": [
        {
          "output_type": "stream",
          "name": "stdout",
          "text": [
            "[100, 111, 502, 343]\n"
          ]
        }
      ]
    },
    {
      "cell_type": "code",
      "source": [
        "for i in range(1,50):\n",
        "  if i%2 !=0 and i%3 !=0:\n",
        "    print(i)\n",
        "  else:\n",
        "    pass"
      ],
      "metadata": {
        "colab": {
          "base_uri": "https://localhost:8080/"
        },
        "id": "9qD2HMXVRYp_",
        "outputId": "d57ed69a-eb7c-49e4-e199-de6df3f1b628"
      },
      "execution_count": null,
      "outputs": [
        {
          "output_type": "stream",
          "name": "stdout",
          "text": [
            "1\n",
            "5\n",
            "7\n",
            "11\n",
            "13\n",
            "17\n",
            "19\n",
            "23\n",
            "25\n",
            "29\n",
            "31\n",
            "35\n",
            "37\n",
            "41\n",
            "43\n",
            "47\n",
            "49\n"
          ]
        }
      ]
    },
    {
      "cell_type": "code",
      "source": [
        "n=int(input())\n",
        "l=[]\n",
        "for i in range(1,n+1):\n",
        "  if n%i==0:\n",
        "    l.append(i)\n",
        "print(min(l))"
      ],
      "metadata": {
        "colab": {
          "base_uri": "https://localhost:8080/"
        },
        "id": "8c8kybsNaLpr",
        "outputId": "2bd78424-d460-4b14-c760-885ca334cf89"
      },
      "execution_count": null,
      "outputs": [
        {
          "output_type": "stream",
          "name": "stdout",
          "text": [
            "20\n",
            "1\n"
          ]
        }
      ]
    },
    {
      "cell_type": "code",
      "source": [
        "s=input()\n",
        "n=0\n",
        "for i in range(0,len(s)):\n",
        "  k=int(s[i])\n",
        "  fact=1\n",
        "  for j in range(1,k+1):\n",
        "    fact=fact*j\n",
        "  n=n+fact\n",
        "if str(n)==s:\n",
        "  print('Strong number')\n",
        "else:\n",
        "  print('Not a strong number')\n"
      ],
      "metadata": {
        "colab": {
          "base_uri": "https://localhost:8080/"
        },
        "id": "j2SWDkdxZ_Xc",
        "outputId": "bbb4b96e-3f89-4537-9db2-597e30f4eeed"
      },
      "execution_count": 22,
      "outputs": [
        {
          "output_type": "stream",
          "name": "stdout",
          "text": [
            "154\n",
            "Not a strong number\n"
          ]
        }
      ]
    },
    {
      "cell_type": "code",
      "source": [
        "s=input()\n",
        "print(s.upper())\n",
        "print(s.lower())"
      ],
      "metadata": {
        "colab": {
          "base_uri": "https://localhost:8080/"
        },
        "id": "JkI967bMZsPt",
        "outputId": "9f4c7979-c09f-4981-ac6c-1bc84ac3cd89"
      },
      "execution_count": 14,
      "outputs": [
        {
          "output_type": "stream",
          "name": "stdout",
          "text": [
            "data science\n",
            "DATA SCIENCE\n",
            "data science\n"
          ]
        }
      ]
    },
    {
      "cell_type": "code",
      "source": [
        "s='united states'\n",
        "k=\"\"\n",
        "for i in s:\n",
        "  if i==' ':\n",
        "    pass\n",
        "  else:\n",
        "    k=k+i\n",
        "print(k)"
      ],
      "metadata": {
        "colab": {
          "base_uri": "https://localhost:8080/"
        },
        "id": "NrwHRDjnWjYZ",
        "outputId": "97073cfe-7cd6-44d6-e1ed-8a6e54ca8308"
      },
      "execution_count": 23,
      "outputs": [
        {
          "output_type": "stream",
          "name": "stdout",
          "text": [
            "unitedstates\n"
          ]
        }
      ]
    },
    {
      "cell_type": "code",
      "source": [
        "s='I am learning data science'\n",
        "k=s.split()\n",
        "l=[]\n",
        "for i in k:\n",
        "  k=i\n",
        "  g=''\n",
        "  for j in range(len(i)):\n",
        "    if j ==0 or j==len(i)-1:\n",
        "      g=g+i[j].upper()\n",
        "    else:\n",
        "      g=g+i[j]\n",
        "  l.append(g)\n",
        "print(l)\n",
        "\n"
      ],
      "metadata": {
        "id": "EuCYyMMwzS2f",
        "colab": {
          "base_uri": "https://localhost:8080/"
        },
        "outputId": "03359de0-d10f-4861-9681-0018f2a293a7"
      },
      "execution_count": 10,
      "outputs": [
        {
          "output_type": "stream",
          "name": "stdout",
          "text": [
            "['I', 'AM', 'LearninG', 'DatA', 'SciencE']\n"
          ]
        }
      ]
    },
    {
      "cell_type": "code",
      "source": [
        "s=input()\n",
        "c=0\n",
        "for i in s:\n",
        "  c=c+1\n",
        "print(c)"
      ],
      "metadata": {
        "colab": {
          "base_uri": "https://localhost:8080/"
        },
        "id": "xGmsiNWFn5cD",
        "outputId": "2b1b81be-eafe-4bd4-9790-ac638371d323"
      },
      "execution_count": null,
      "outputs": [
        {
          "output_type": "stream",
          "name": "stdout",
          "text": [
            "data science\n",
            "12\n"
          ]
        }
      ]
    }
  ]
}